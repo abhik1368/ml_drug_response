{
 "cells": [
  {
   "cell_type": "code",
   "execution_count": 1,
   "id": "2ca7d0a4-6b45-481a-82d6-a126b2d93928",
   "metadata": {
    "tags": []
   },
   "outputs": [],
   "source": [
    "import os\n",
    "import pandas as pd\n",
    "import numpy as np\n",
    "import random\n",
    "from pandas import DataFrame\n",
    "from datetime import datetime\n",
    "from sklearn.ensemble import RandomForestRegressor\n",
    "import matplotlib\n",
    "from matplotlib import pyplot as plt\n",
    "\n",
    "from sklearn.metrics import r2_score"
   ]
  },
  {
   "cell_type": "code",
   "execution_count": 8,
   "id": "a7579fd8-76b4-4670-b049-7b9121222d76",
   "metadata": {
    "tags": []
   },
   "outputs": [],
   "source": [
    "datasetdir = \"/home/jnbera43/Naya_Lynx/data\"\n",
    "resultdir = \"/home/jnbera43/Naya_Lynx/Model_generation\"\n",
    "\n",
    "# dataset = np.load(datasetdir + \"EC11K_%s.npz\" % dname)\n",
    "# ss0 = np.load(datasetdir + 'EC11K_%s_0_8_2.npz' % dname)"
   ]
  },
  {
   "cell_type": "code",
   "execution_count": null,
   "id": "ecebe42c-4b1e-4731-98f8-b97c8c7abebd",
   "metadata": {
    "tags": []
   },
   "outputs": [
    {
     "name": "stdout",
     "output_type": "stream",
     "text": [
      "Starttime: 20240215\n",
      "drug: AEW541\n",
      "StartTime : 2024-02-15 19:15:58.196370\n",
      "EndTime : 2024-02-15 19:31:35.378920\n",
      "AEW541’s final rmse value is = 0.807750\n",
      "AEW541 R-squared value is = -0.027804\n",
      "drug: Erlotinib\n",
      "StartTime : 2024-02-15 19:31:35.786874\n"
     ]
    }
   ],
   "source": [
    "from datetime import datetime\n",
    "now = datetime.now()\n",
    "day = now.strftime(\"%Y%m%d\")\n",
    "print(\"Starttime: \" + day)\n",
    "\n",
    "drug_list = [\"AEW541\",\"Erlotinib\",\"17-AAG\",\"AZD0530\"]\n",
    "rmselist = []\n",
    "r2list = []\n",
    "\n",
    "fig = plt.figure(figsize=(15,20),dpi=400)\n",
    "fig.subplots_adjust(hspace=0.5, wspace=0.5)\n",
    "num = 1\n",
    "for dname in drug_list:\n",
    "    \n",
    "    print('drug: %s' % dname)\n",
    "    # read input file and index file for training and test set\n",
    "    dataset = np.load(datasetdir + \"/geneExp_%s.npz\" % dname)\n",
    "    ss0 = np.load(datasetdir + '/geneExp_%s_0_8_2.npz' % dname)\n",
    "\n",
    "    # input and index file assign\n",
    "    x = dataset['x']\n",
    "    y = dataset['y']\n",
    "    # y_linear = dataset['y_lnIC50']\n",
    "    ss0_train = ss0['train']\n",
    "    ss0_test = ss0['test']\n",
    "    \n",
    "    # z-normalization\n",
    "    \n",
    "    # training and test dataset assign\n",
    "    train_X, train_y = x[ss0_train], y[ss0_train]\n",
    "    test_X, test_y = x[ss0_test], y[ss0_test]\n",
    "    \n",
    "    from sklearn import preprocessing\n",
    "    import pickle\n",
    "    scaler = preprocessing.StandardScaler()\n",
    "    train_X = scaler.fit_transform(train_X)\n",
    "    pickle.dump(scaler, open(datasetdir + \"/standardization_models/znorm_scaler_%s.pkl\" % dname, 'wb'))\n",
    "    test_X = scaler.transform(test_X)\n",
    "\n",
    "    # data typing and the number of dataset\n",
    "    train_X = train_X.astype('float32')\n",
    "    test_X = test_X.astype('float32')\n",
    "    \n",
    "    # model fitting\n",
    "    StartTime8 = datetime.now()\n",
    "    print(\"StartTime :\", StartTime8)\n",
    "    rf = RandomForestRegressor(random_state = 84)\n",
    "    # Train the model on training data\n",
    "    rf.fit(train_X, train_y)\n",
    "\n",
    "    EndTime8 = datetime.now()\n",
    "    print(\"EndTime :\", EndTime8)\n",
    "\n",
    "\n",
    "    predicted_classes = rf.predict(test_X)\n",
    "    predicted_value = predicted_classes\n",
    "        \n",
    "        \n",
    "    import pickle\n",
    "    import joblib\n",
    "    joblib.dump(rf, resultdir + '/RF/geneExp_znorm_RF_%s.pkl' % dname) \n",
    "            \n",
    "    \n",
    "    # saving predicted ln(IC50)s and ln(IC50)s in the test set\n",
    "    a = pd.DataFrame(predicted_value)\n",
    "    b = pd.DataFrame(test_y)\n",
    "    c = pd.concat([a,b], axis=1)\n",
    "    c.columns=[\"Predicted\",\"Test\"]\n",
    "    c.to_csv(resultdir + '/RF/predicted_table/geneExp_RF_%s_pred_and_val_result.csv' % dname, index=False)\n",
    "\n",
    "\n",
    "    \n",
    "    # RMSE\n",
    "    rse = ((b[0]-a[0])**2).sum()\n",
    "    mse = rse / len(b)\n",
    "    rmse = np.sqrt(mse)\n",
    "    print(\"%s’s final rmse value is = %f\" % (dname,rmse))\n",
    "    \n",
    "    # R-squared value\n",
    "    r2_value = r2_score(b,a)\n",
    "    print(\"%s R-squared value is = %f\" % (dname,r2_value))\n",
    "    rmselist.append(rmse)\n",
    "    r2list.append(r2_value)\n",
    "          \n",
    "    plt.subplot(5,3,num)\n",
    "    plt.scatter(test_y,predicted_value,c='orange')\n",
    "    plt.title(dname,fontdict ={'fontsize' : 15},fontname=\"Arial\",y = 1.02)\n",
    "    plt.tick_params(labelsize=10)\n",
    "    \n",
    "    num += 1"
   ]
  },
  {
   "cell_type": "code",
   "execution_count": null,
   "id": "eb1db27f-7ad9-4dfe-b59c-f9f5b40f4dec",
   "metadata": {},
   "outputs": [],
   "source": []
  }
 ],
 "metadata": {
  "kernelspec": {
   "display_name": "Python 3 (Local)",
   "language": "python",
   "name": "python3"
  },
  "language_info": {
   "codemirror_mode": {
    "name": "ipython",
    "version": 3
   },
   "file_extension": ".py",
   "mimetype": "text/x-python",
   "name": "python",
   "nbconvert_exporter": "python",
   "pygments_lexer": "ipython3",
   "version": "3.10.13"
  }
 },
 "nbformat": 4,
 "nbformat_minor": 5
}
